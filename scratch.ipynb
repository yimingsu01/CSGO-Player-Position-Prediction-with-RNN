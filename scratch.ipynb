{
 "cells": [
  {
   "cell_type": "code",
   "execution_count": 14,
   "outputs": [],
   "source": [
    "from awpy import DemoParser\n",
    "\n",
    "demo_parser = DemoParser(demofile=\"infexample.dem\", parse_rate=128)\n",
    "data = demo_parser.parse(return_type=\"json\")"
   ],
   "metadata": {
    "collapsed": false,
    "pycharm": {
     "name": "#%%\n"
    }
   }
  },
  {
   "cell_type": "code",
   "execution_count": 15,
   "outputs": [],
   "source": [
    "all_rounds = data[\"gameRounds\"]"
   ],
   "metadata": {
    "collapsed": false,
    "pycharm": {
     "name": "#%%\n"
    }
   }
  },
  {
   "cell_type": "code",
   "execution_count": 5,
   "outputs": [],
   "source": [
    "ct_full_eco_rounds = [round for round in all_rounds if round[\"ctBuyType\"] == \"Full Eco\"]\n",
    "t_full_eco_rounds = [round for round in all_rounds if round[\"tBuyType\"] == \"Full Eco\"]"
   ],
   "metadata": {
    "collapsed": false,
    "pycharm": {
     "name": "#%%\n"
    }
   }
  },
  {
   "cell_type": "code",
   "execution_count": null,
   "outputs": [],
   "source": [
    "print(len(t_full_eco_rounds))"
   ],
   "metadata": {
    "collapsed": false,
    "pycharm": {
     "name": "#%%\n"
    }
   }
  },
  {
   "cell_type": "code",
   "execution_count": 30,
   "outputs": [],
   "source": [
    "import numpy as np\n",
    "t_player_pos = np.array([[0, 0, 0, 0, 0, 0, 0, 0, 0, 0]])\n",
    "# print(t_player_pos)\n",
    "\n",
    "for round in all_rounds:\n",
    "    # temp = np.array([])\n",
    "    for frame in round[\"frames\"]:\n",
    "        temp = np.array([])\n",
    "        for t in frame[\"t\"][\"players\"]:\n",
    "            temp = np.append(temp, t[\"x\"])\n",
    "            temp = np.append(temp, t[\"y\"])\n",
    "        # print(np.expand_dims(temp, axis=0))\n",
    "        t_player_pos = np.row_stack((t_player_pos, np.expand_dims(temp, axis=0)))\n",
    "        # print(t_player_pos)\n",
    "\n",
    "\n",
    "t_player_pos = np.delete(t_player_pos, 0, axis=0)"
   ],
   "metadata": {
    "collapsed": false,
    "pycharm": {
     "name": "#%%\n"
    }
   }
  },
  {
   "cell_type": "code",
   "execution_count": 31,
   "outputs": [],
   "source": [
    "# from sklearn.preprocessing import MinMaxScaler\n",
    "# values = t_player_pos.reshape(-1, 1)\n",
    "# scaler = MinMaxScaler(feature_range=(-1, 1))\n",
    "# values = scaler.fit_transform(values)\n",
    "MEAN = np.mean(t_player_pos)\n",
    "STD = np.std(t_player_pos)\n",
    "\n",
    "data = (t_player_pos - MEAN) / STD\n",
    "X = data[:-1]\n",
    "y = data[1:]"
   ],
   "metadata": {
    "collapsed": false,
    "pycharm": {
     "name": "#%%\n"
    }
   }
  },
  {
   "cell_type": "code",
   "execution_count": 37,
   "outputs": [],
   "source": [
    "ct_player_pos = np.array([[0, 0, 0, 0, 0, 0, 0, 0, 0, 0]])\n",
    "# print(t_player_pos)\n",
    "\n",
    "for round in all_rounds:\n",
    "    # temp = np.array([])\n",
    "    for frame in round[\"frames\"]:\n",
    "        temp = np.array([])\n",
    "        for ct in frame[\"ct\"][\"players\"]:\n",
    "            temp = np.append(temp, ct[\"x\"])\n",
    "            temp = np.append(temp, ct[\"y\"])\n",
    "        # print(np.expand_dims(temp, axis=0))\n",
    "        ct_player_pos = np.row_stack((ct_player_pos, np.expand_dims(temp, axis=0)))\n",
    "        # print(t_player_pos)\n",
    "\n",
    "\n",
    "ct_player_pos = np.delete(ct_player_pos, 0, axis=0)\n",
    "\n",
    "X = ct_player_pos[:-1]\n",
    "y = t_player_pos[1:]\n",
    "# from sklearn.preprocessing import MinMaxScaler\n",
    "# values = t_player_pos.reshape(-1, 1)\n",
    "# scaler = MinMaxScaler(feature_range=(-1, 1))\n",
    "# values = scaler.fit_transform(values)\n",
    "MEAN = np.mean(ct_player_pos)\n",
    "STD = np.std(ct_player_pos)\n",
    "\n",
    "data = (ct_player_pos - MEAN) / STD\n",
    "X = data[:-1]\n",
    "y = data[1:]"
   ],
   "metadata": {
    "collapsed": false,
    "pycharm": {
     "name": "#%%\n"
    }
   }
  },
  {
   "cell_type": "code",
   "execution_count": 38,
   "outputs": [
    {
     "name": "stdout",
     "output_type": "stream",
     "text": [
      "We have 489 training points and 243 testing points\n",
      "X shape: (489, 1, 10)\n"
     ]
    }
   ],
   "source": [
    "n_points = len(t_player_pos)\n",
    "train_points = int(2/3*n_points)+1\n",
    "X_train, X_test = X[:train_points], X[train_points:]\n",
    "y_train, y_test = y[:train_points], y[train_points:]\n",
    "print(\"We have\", len(X_train), \"training points and\", X_test.shape[0], \"testing points\")\n",
    "\n",
    "X_train = X_train.reshape(X_train.shape[0], 1, 10)\n",
    "X_test = X_test.reshape(X_test.shape[0], 1, 10)\n",
    "print(f\"X shape: {X_train.shape}\")"
   ],
   "metadata": {
    "collapsed": false,
    "pycharm": {
     "name": "#%%\n"
    }
   }
  },
  {
   "cell_type": "code",
   "execution_count": 19,
   "outputs": [
    {
     "name": "stdout",
     "output_type": "stream",
     "text": [
      "Model: \"sequential\"\n",
      "_________________________________________________________________\n",
      "Layer (type)                 Output Shape              Param #   \n",
      "=================================================================\n",
      "simple_rnn (SimpleRNN)       (None, 10)                210       \n",
      "_________________________________________________________________\n",
      "dense (Dense)                (None, 10)                110       \n",
      "=================================================================\n",
      "Total params: 320\n",
      "Trainable params: 320\n",
      "Non-trainable params: 0\n",
      "_________________________________________________________________\n"
     ]
    }
   ],
   "source": [
    "import keras\n",
    "import tensorflow as tf\n",
    "from keras.models import Sequential\n",
    "from keras.layers import Dense\n",
    "from keras.layers import SimpleRNN, GRU, LSTM\n",
    "# from sklearn.preprocessing import MinMaxScaler\n",
    "\n",
    "tf.compat.v1.reset_default_graph()\n",
    "tf.keras.backend.clear_session()\n",
    "\n",
    "model = Sequential()\n",
    "model.add(SimpleRNN(units=10, input_shape=(1, 10)))\n",
    "model.add(Dense(10))\n",
    "\n",
    "model.compile(loss='mean_squared_error', optimizer='adam', metrics=[\"accuracy\"])\n",
    "\n",
    "model.summary()"
   ],
   "metadata": {
    "collapsed": false,
    "pycharm": {
     "name": "#%%\n"
    }
   }
  },
  {
   "cell_type": "code",
   "execution_count": 24,
   "outputs": [],
   "source": [
    "model = Sequential()\n",
    "model.add(LSTM(10, input_shape=(1, 10)))\n",
    "model.add(Dense(10))\n",
    "model.compile(loss='mean_squared_error', optimizer='adam')"
   ],
   "metadata": {
    "collapsed": false,
    "pycharm": {
     "name": "#%%\n"
    }
   }
  },
  {
   "cell_type": "code",
   "execution_count": 39,
   "outputs": [
    {
     "name": "stdout",
     "output_type": "stream",
     "text": [
      "Epoch 1/100\n",
      "31/31 [==============================] - 0s 962us/step - loss: 0.7273\n",
      "Epoch 2/100\n",
      "31/31 [==============================] - 0s 869us/step - loss: 0.7121\n",
      "Epoch 3/100\n",
      "31/31 [==============================] - 0s 798us/step - loss: 0.7025\n",
      "Epoch 4/100\n",
      "31/31 [==============================] - 0s 771us/step - loss: 0.6966\n",
      "Epoch 5/100\n",
      "31/31 [==============================] - 0s 809us/step - loss: 0.6925\n",
      "Epoch 6/100\n",
      "31/31 [==============================] - 0s 856us/step - loss: 0.6892\n",
      "Epoch 7/100\n",
      "31/31 [==============================] - 0s 830us/step - loss: 0.6868\n",
      "Epoch 8/100\n",
      "31/31 [==============================] - 0s 816us/step - loss: 0.6850\n",
      "Epoch 9/100\n",
      "31/31 [==============================] - 0s 795us/step - loss: 0.6830\n",
      "Epoch 10/100\n",
      "31/31 [==============================] - 0s 836us/step - loss: 0.6814\n",
      "Epoch 11/100\n",
      "31/31 [==============================] - 0s 867us/step - loss: 0.6799\n",
      "Epoch 12/100\n",
      "31/31 [==============================] - 0s 846us/step - loss: 0.6787\n",
      "Epoch 13/100\n",
      "31/31 [==============================] - 0s 919us/step - loss: 0.6777\n",
      "Epoch 14/100\n",
      "31/31 [==============================] - 0s 834us/step - loss: 0.6768\n",
      "Epoch 15/100\n",
      "31/31 [==============================] - 0s 854us/step - loss: 0.6760\n",
      "Epoch 16/100\n",
      "31/31 [==============================] - 0s 846us/step - loss: 0.6751\n",
      "Epoch 17/100\n",
      "31/31 [==============================] - 0s 873us/step - loss: 0.6742\n",
      "Epoch 18/100\n",
      "31/31 [==============================] - 0s 836us/step - loss: 0.6732\n",
      "Epoch 19/100\n",
      "31/31 [==============================] - 0s 798us/step - loss: 0.6726\n",
      "Epoch 20/100\n",
      "31/31 [==============================] - 0s 799us/step - loss: 0.6721\n",
      "Epoch 21/100\n",
      "31/31 [==============================] - 0s 812us/step - loss: 0.6712\n",
      "Epoch 22/100\n",
      "31/31 [==============================] - 0s 879us/step - loss: 0.6705\n",
      "Epoch 23/100\n",
      "31/31 [==============================] - 0s 807us/step - loss: 0.6698\n",
      "Epoch 24/100\n",
      "31/31 [==============================] - 0s 790us/step - loss: 0.6693\n",
      "Epoch 25/100\n",
      "31/31 [==============================] - 0s 777us/step - loss: 0.6688\n",
      "Epoch 26/100\n",
      "31/31 [==============================] - 0s 752us/step - loss: 0.6684\n",
      "Epoch 27/100\n",
      "31/31 [==============================] - 0s 794us/step - loss: 0.6675\n",
      "Epoch 28/100\n",
      "31/31 [==============================] - 0s 783us/step - loss: 0.6672\n",
      "Epoch 29/100\n",
      "31/31 [==============================] - 0s 752us/step - loss: 0.6667\n",
      "Epoch 30/100\n",
      "31/31 [==============================] - 0s 779us/step - loss: 0.6662\n",
      "Epoch 31/100\n",
      "31/31 [==============================] - 0s 753us/step - loss: 0.6657\n",
      "Epoch 32/100\n",
      "31/31 [==============================] - 0s 852us/step - loss: 0.6655\n",
      "Epoch 33/100\n",
      "31/31 [==============================] - 0s 800us/step - loss: 0.6651\n",
      "Epoch 34/100\n",
      "31/31 [==============================] - 0s 875us/step - loss: 0.6646\n",
      "Epoch 35/100\n",
      "31/31 [==============================] - 0s 815us/step - loss: 0.6643\n",
      "Epoch 36/100\n",
      "31/31 [==============================] - 0s 925us/step - loss: 0.6636\n",
      "Epoch 37/100\n",
      "31/31 [==============================] - 0s 869us/step - loss: 0.6634\n",
      "Epoch 38/100\n",
      "31/31 [==============================] - 0s 853us/step - loss: 0.6631\n",
      "Epoch 39/100\n",
      "31/31 [==============================] - 0s 795us/step - loss: 0.6627\n",
      "Epoch 40/100\n",
      "31/31 [==============================] - 0s 777us/step - loss: 0.6622\n",
      "Epoch 41/100\n",
      "31/31 [==============================] - 0s 749us/step - loss: 0.6619\n",
      "Epoch 42/100\n",
      "31/31 [==============================] - 0s 765us/step - loss: 0.6615\n",
      "Epoch 43/100\n",
      "31/31 [==============================] - 0s 799us/step - loss: 0.6615\n",
      "Epoch 44/100\n",
      "31/31 [==============================] - 0s 814us/step - loss: 0.6609\n",
      "Epoch 45/100\n",
      "31/31 [==============================] - 0s 815us/step - loss: 0.6607\n",
      "Epoch 46/100\n",
      "31/31 [==============================] - 0s 795us/step - loss: 0.6606\n",
      "Epoch 47/100\n",
      "31/31 [==============================] - 0s 770us/step - loss: 0.6603\n",
      "Epoch 48/100\n",
      "31/31 [==============================] - 0s 780us/step - loss: 0.6598\n",
      "Epoch 49/100\n",
      "31/31 [==============================] - 0s 814us/step - loss: 0.6594\n",
      "Epoch 50/100\n",
      "31/31 [==============================] - 0s 877us/step - loss: 0.6591\n",
      "Epoch 51/100\n",
      "31/31 [==============================] - 0s 753us/step - loss: 0.6591\n",
      "Epoch 52/100\n",
      "31/31 [==============================] - 0s 794us/step - loss: 0.6586\n",
      "Epoch 53/100\n",
      "31/31 [==============================] - 0s 816us/step - loss: 0.6585\n",
      "Epoch 54/100\n",
      "31/31 [==============================] - 0s 766us/step - loss: 0.6581\n",
      "Epoch 55/100\n",
      "31/31 [==============================] - 0s 756us/step - loss: 0.6578\n",
      "Epoch 56/100\n",
      "31/31 [==============================] - 0s 766us/step - loss: 0.6574\n",
      "Epoch 57/100\n",
      "31/31 [==============================] - 0s 761us/step - loss: 0.6571\n",
      "Epoch 58/100\n",
      "31/31 [==============================] - 0s 765us/step - loss: 0.6571\n",
      "Epoch 59/100\n",
      "31/31 [==============================] - 0s 823us/step - loss: 0.6566\n",
      "Epoch 60/100\n",
      "31/31 [==============================] - 0s 854us/step - loss: 0.6564\n",
      "Epoch 61/100\n",
      "31/31 [==============================] - 0s 792us/step - loss: 0.6561\n",
      "Epoch 62/100\n",
      "31/31 [==============================] - 0s 787us/step - loss: 0.6558\n",
      "Epoch 63/100\n",
      "31/31 [==============================] - 0s 749us/step - loss: 0.6557\n",
      "Epoch 64/100\n",
      "31/31 [==============================] - 0s 799us/step - loss: 0.6553\n",
      "Epoch 65/100\n",
      "31/31 [==============================] - 0s 785us/step - loss: 0.6549\n",
      "Epoch 66/100\n",
      "31/31 [==============================] - 0s 761us/step - loss: 0.6549\n",
      "Epoch 67/100\n",
      "31/31 [==============================] - 0s 735us/step - loss: 0.6544\n",
      "Epoch 68/100\n",
      "31/31 [==============================] - 0s 735us/step - loss: 0.6544\n",
      "Epoch 69/100\n",
      "31/31 [==============================] - 0s 753us/step - loss: 0.6541\n",
      "Epoch 70/100\n",
      "31/31 [==============================] - 0s 802us/step - loss: 0.6542\n",
      "Epoch 71/100\n",
      "31/31 [==============================] - 0s 756us/step - loss: 0.6535\n",
      "Epoch 72/100\n",
      "31/31 [==============================] - 0s 768us/step - loss: 0.6534\n",
      "Epoch 73/100\n",
      "31/31 [==============================] - 0s 739us/step - loss: 0.6532\n",
      "Epoch 74/100\n",
      "31/31 [==============================] - 0s 823us/step - loss: 0.6529\n",
      "Epoch 75/100\n",
      "31/31 [==============================] - 0s 714us/step - loss: 0.6527\n",
      "Epoch 76/100\n",
      "31/31 [==============================] - 0s 775us/step - loss: 0.6524\n",
      "Epoch 77/100\n",
      "31/31 [==============================] - 0s 769us/step - loss: 0.6523\n",
      "Epoch 78/100\n",
      "31/31 [==============================] - 0s 741us/step - loss: 0.6523\n",
      "Epoch 79/100\n",
      "31/31 [==============================] - 0s 778us/step - loss: 0.6521\n",
      "Epoch 80/100\n",
      "31/31 [==============================] - 0s 759us/step - loss: 0.6516\n",
      "Epoch 81/100\n",
      "31/31 [==============================] - 0s 747us/step - loss: 0.6515\n",
      "Epoch 82/100\n",
      "31/31 [==============================] - 0s 763us/step - loss: 0.6513\n",
      "Epoch 83/100\n",
      "31/31 [==============================] - 0s 755us/step - loss: 0.6510\n",
      "Epoch 84/100\n",
      "31/31 [==============================] - 0s 766us/step - loss: 0.6508\n",
      "Epoch 85/100\n",
      "31/31 [==============================] - 0s 783us/step - loss: 0.6506\n",
      "Epoch 86/100\n",
      "31/31 [==============================] - 0s 729us/step - loss: 0.6505\n",
      "Epoch 87/100\n",
      "31/31 [==============================] - 0s 775us/step - loss: 0.6502\n",
      "Epoch 88/100\n",
      "31/31 [==============================] - 0s 753us/step - loss: 0.6500\n",
      "Epoch 89/100\n",
      "31/31 [==============================] - 0s 787us/step - loss: 0.6502\n",
      "Epoch 90/100\n",
      "31/31 [==============================] - 0s 818us/step - loss: 0.6497\n",
      "Epoch 91/100\n",
      "31/31 [==============================] - 0s 773us/step - loss: 0.6497\n",
      "Epoch 92/100\n",
      "31/31 [==============================] - 0s 744us/step - loss: 0.6491\n",
      "Epoch 93/100\n",
      "31/31 [==============================] - 0s 789us/step - loss: 0.6491\n",
      "Epoch 94/100\n",
      "31/31 [==============================] - 0s 770us/step - loss: 0.6488\n",
      "Epoch 95/100\n",
      "31/31 [==============================] - 0s 772us/step - loss: 0.6484\n",
      "Epoch 96/100\n",
      "31/31 [==============================] - 0s 767us/step - loss: 0.6484\n",
      "Epoch 97/100\n",
      "31/31 [==============================] - 0s 740us/step - loss: 0.6481\n",
      "Epoch 98/100\n",
      "31/31 [==============================] - 0s 729us/step - loss: 0.6481\n",
      "Epoch 99/100\n",
      "31/31 [==============================] - 0s 785us/step - loss: 0.6478\n",
      "Epoch 100/100\n",
      "31/31 [==============================] - 0s 755us/step - loss: 0.6477\n"
     ]
    }
   ],
   "source": [
    "H = model.fit(X_train, y_train, epochs=100, batch_size=16)"
   ],
   "metadata": {
    "collapsed": false,
    "pycharm": {
     "name": "#%%\n"
    }
   }
  },
  {
   "cell_type": "code",
   "execution_count": 26,
   "outputs": [
    {
     "data": {
      "text/plain": "<Figure size 432x288 with 1 Axes>",
      "image/png": "[encoded data removed]"
     },
     "metadata": {
      "needs_background": "light"
     },
     "output_type": "display_data"
    },
    {
     "data": {
      "text/plain": "<Figure size 432x288 with 0 Axes>"
     },
     "metadata": {},
     "output_type": "display_data"
    }
   ],
   "source": [
    "from matplotlib import pyplot as plt\n",
    "\n",
    "plt.plot(H.history['loss'])\n",
    "plt.title('model loss')\n",
    "plt.ylabel('loss')\n",
    "plt.xlabel('epoch')\n",
    "plt.legend(['train', 'val'], loc='upper left')\n",
    "plt.show()\n",
    "plt.savefig(\"loss.png\")"
   ],
   "metadata": {
    "collapsed": false,
    "pycharm": {
     "name": "#%%\n"
    }
   }
  },
  {
   "cell_type": "code",
   "execution_count": 40,
   "outputs": [
    {
     "name": "stdout",
     "output_type": "stream",
     "text": [
      "[[ 0.66626686  0.8957722   0.8549134  ...  0.6906789   0.7948609\n",
      "   0.8846336 ]\n",
      " [ 0.53113586  0.99712026  0.5058184  ...  0.9716469   0.711628\n",
      "   1.121347  ]\n",
      " [ 0.33387744  0.73763585  0.02453035 ...  0.98864996  0.43602115\n",
      "   0.89830637]\n",
      " ...\n",
      " [-0.12752065 -0.51902837 -0.355961   ... -0.51753706 -0.10523936\n",
      "  -0.5898943 ]\n",
      " [ 0.05410711 -0.08989769  0.10136489 ... -0.36651248  0.09599193\n",
      "  -0.40452582]\n",
      " [-0.04273055 -0.45565975  0.0375176  ... -0.53670275 -0.23077136\n",
      "  -0.30279747]]\n"
     ]
    }
   ],
   "source": [
    "y_train_pred = model.predict(X_train)\n",
    "y_test_pred = model.predict(X_test)\n",
    "y_train_pred = y_train_pred.reshape(X_train.shape[0], 10)\n",
    "y_test_pred = y_test_pred.reshape(X_test.shape[0], 10)\n",
    "\n",
    "# data = (t_player_pos - np.mean(t_player_pos)) / np.std(t_player_pos)\n",
    "# y_train_pred = y_train_pred * np.std(t_player_pos) + np.mean(t_player_pos)\n",
    "# y_test_pred = y_test_pred * np.std(t_player_pos) + np.mean(t_player_pos)\n",
    "print(y_train_pred)\n",
    "from ut import graphpos\n",
    "for idx, pos in enumerate(y_train_pred):\n",
    "    graphpos(poses=pos, orig_std=STD, orig_mean=MEAN, show=0, debug=0, filename=r\"output/out_\" + str(idx) + \".png\")\n",
    "from PIL import Image\n",
    "import glob\n",
    "\n",
    "# Create the frames\n",
    "frames = []\n",
    "imgs = glob.glob(\"output/*.png\")\n",
    "for i in imgs:\n",
    "    new_frame = Image.open(i)\n",
    "    frames.append(new_frame)\n",
    "\n",
    "# Save into a GIF file that loops forever\n",
    "frames[0].save('png_to_gif_LTSM_CT.gif', format='GIF',\n",
    "               append_images=frames[1:],\n",
    "               save_all=True,\n",
    "               duration=200, loop=0)"
   ],
   "metadata": {
    "collapsed": false,
    "pycharm": {
     "name": "#%%\n"
    }
   }
  }
 ],
 "metadata": {
  "kernelspec": {
   "display_name": "Python 3",
   "language": "python",
   "name": "python3"
  },
  "language_info": {
   "codemirror_mode": {
    "name": "ipython",
    "version": 2
   },
   "file_extension": ".py",
   "mimetype": "text/x-python",
   "name": "python",
   "nbconvert_exporter": "python",
   "pygments_lexer": "ipython2",
   "version": "2.7.6"
  }
 },
 "nbformat": 4,
 "nbformat_minor": 0
}